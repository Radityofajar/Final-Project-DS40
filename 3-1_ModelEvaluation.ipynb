{
 "cells": [
  {
   "cell_type": "code",
   "execution_count": 89,
   "metadata": {},
   "outputs": [],
   "source": [
    "import tensorflow as tf\n",
    "import pickle as pkl"
   ]
  },
  {
   "cell_type": "code",
   "execution_count": 90,
   "metadata": {},
   "outputs": [],
   "source": [
    "# Google Collab\n",
    "# from google.colab import drive\n",
    "# drive.mount('/content/drive')\n",
    "# !gdown https://drive.google.com/file/d/1XnftTrItVGpQdH1tAVL7VHkt6LVEmeVu/view?usp=sharing --fuzzy #XGBoost model\n",
    "# !gdown https://drive.google.com/file/d/1KvjlEB1MWd1Qru6IjmRSwvhVQo9GQB3b/view?usp=sharing --fuzzy #AdaBoost model\n",
    "# !gdown https://drive.google.com/file/d/1BjJ0raH3ikrkDjCL2hngFVleoedd1neJ/view?usp=sharing --fuzzy #GradientBoostingRegression model\n",
    "# !gdown https://drive.google.com/file/d/168YSVuV1fGPaf7BOoTcbfhed2zpyk3qr/view?usp=sharing --fuzzy #LinearRegression model\n",
    "# !gdown https://drive.google.com/file/d/10DfAAhqoYyzl4IRW1q86S_svaMxR-AZJ/view?usp=sharing --fuzzy #RandowmForest model\n",
    "# !gdown https://drive.google.com/file/d/15F7KDbZVYBLADIxOrFz83m2WzVF4gBPe/view?usp=sharing --fuzzy #ANN Regressor model\n",
    "# !gdown https://drive.google.com/file/d/1qiikMTylH8d8ic37ehM_CDPDmZIbQ7Iy/view?usp=sharing --fuzzy #X_test data\n",
    "# !gdown https://drive.google.com/file/d/1r-kWDZe3IoFTQm1gBOZCm0w_uoAhreZE/view?usp=sharing --fuzzy #y_test data\n",
    "# directory = ''\n",
    "\n",
    "# Local: Data already in folder Clean Dataset\n",
    "directory = \"CleanDataset/\""
   ]
  },
  {
   "cell_type": "code",
   "execution_count": 91,
   "metadata": {},
   "outputs": [
    {
     "data": {
      "text/html": [
       "<div>\n",
       "<style scoped>\n",
       "    .dataframe tbody tr th:only-of-type {\n",
       "        vertical-align: middle;\n",
       "    }\n",
       "\n",
       "    .dataframe tbody tr th {\n",
       "        vertical-align: top;\n",
       "    }\n",
       "\n",
       "    .dataframe thead th {\n",
       "        text-align: right;\n",
       "    }\n",
       "</style>\n",
       "<table border=\"1\" class=\"dataframe\">\n",
       "  <thead>\n",
       "    <tr style=\"text-align: right;\">\n",
       "      <th></th>\n",
       "      <th>song_duration_ms</th>\n",
       "      <th>acousticness</th>\n",
       "      <th>danceability</th>\n",
       "      <th>energy</th>\n",
       "      <th>instrumentalness</th>\n",
       "      <th>key</th>\n",
       "      <th>liveness</th>\n",
       "      <th>loudness</th>\n",
       "      <th>audio_mode</th>\n",
       "      <th>speechiness</th>\n",
       "      <th>tempo</th>\n",
       "      <th>time_signature</th>\n",
       "      <th>audio_valence</th>\n",
       "    </tr>\n",
       "  </thead>\n",
       "  <tbody>\n",
       "    <tr>\n",
       "      <th>4272</th>\n",
       "      <td>-0.934154</td>\n",
       "      <td>-0.357679</td>\n",
       "      <td>-0.189055</td>\n",
       "      <td>0.224561</td>\n",
       "      <td>-0.022342</td>\n",
       "      <td>0.333333</td>\n",
       "      <td>-0.335196</td>\n",
       "      <td>0.254810</td>\n",
       "      <td>0.0</td>\n",
       "      <td>0.621233</td>\n",
       "      <td>0.006314</td>\n",
       "      <td>0.0</td>\n",
       "      <td>-0.071429</td>\n",
       "    </tr>\n",
       "    <tr>\n",
       "      <th>12907</th>\n",
       "      <td>-0.009305</td>\n",
       "      <td>-0.356021</td>\n",
       "      <td>-0.960199</td>\n",
       "      <td>1.007018</td>\n",
       "      <td>-0.022342</td>\n",
       "      <td>0.666667</td>\n",
       "      <td>0.204842</td>\n",
       "      <td>0.725810</td>\n",
       "      <td>0.0</td>\n",
       "      <td>-0.070468</td>\n",
       "      <td>0.622252</td>\n",
       "      <td>0.0</td>\n",
       "      <td>-0.341837</td>\n",
       "    </tr>\n",
       "    <tr>\n",
       "      <th>8240</th>\n",
       "      <td>-1.314128</td>\n",
       "      <td>0.326359</td>\n",
       "      <td>0.094527</td>\n",
       "      <td>-0.445614</td>\n",
       "      <td>-0.022342</td>\n",
       "      <td>-0.333333</td>\n",
       "      <td>-0.589385</td>\n",
       "      <td>-0.557056</td>\n",
       "      <td>0.0</td>\n",
       "      <td>-0.044506</td>\n",
       "      <td>0.142319</td>\n",
       "      <td>0.0</td>\n",
       "      <td>1.043367</td>\n",
       "    </tr>\n",
       "    <tr>\n",
       "      <th>548</th>\n",
       "      <td>1.412107</td>\n",
       "      <td>-0.360284</td>\n",
       "      <td>-0.835821</td>\n",
       "      <td>1.028070</td>\n",
       "      <td>26.824505</td>\n",
       "      <td>0.166667</td>\n",
       "      <td>0.763501</td>\n",
       "      <td>0.675715</td>\n",
       "      <td>-1.0</td>\n",
       "      <td>2.310617</td>\n",
       "      <td>-0.786017</td>\n",
       "      <td>0.0</td>\n",
       "      <td>-0.795918</td>\n",
       "    </tr>\n",
       "    <tr>\n",
       "      <th>5161</th>\n",
       "      <td>-1.151805</td>\n",
       "      <td>0.610607</td>\n",
       "      <td>-0.238806</td>\n",
       "      <td>-0.715789</td>\n",
       "      <td>0.792072</td>\n",
       "      <td>0.166667</td>\n",
       "      <td>1.964618</td>\n",
       "      <td>-1.616596</td>\n",
       "      <td>0.0</td>\n",
       "      <td>-0.302272</td>\n",
       "      <td>-0.742481</td>\n",
       "      <td>0.0</td>\n",
       "      <td>0.640306</td>\n",
       "    </tr>\n",
       "    <tr>\n",
       "      <th>...</th>\n",
       "      <td>...</td>\n",
       "      <td>...</td>\n",
       "      <td>...</td>\n",
       "      <td>...</td>\n",
       "      <td>...</td>\n",
       "      <td>...</td>\n",
       "      <td>...</td>\n",
       "      <td>...</td>\n",
       "      <td>...</td>\n",
       "      <td>...</td>\n",
       "      <td>...</td>\n",
       "      <td>...</td>\n",
       "      <td>...</td>\n",
       "    </tr>\n",
       "    <tr>\n",
       "      <th>8940</th>\n",
       "      <td>1.160859</td>\n",
       "      <td>0.336886</td>\n",
       "      <td>0.835821</td>\n",
       "      <td>-0.792982</td>\n",
       "      <td>-0.022342</td>\n",
       "      <td>-0.333333</td>\n",
       "      <td>0.512104</td>\n",
       "      <td>-0.347443</td>\n",
       "      <td>-1.0</td>\n",
       "      <td>0.993973</td>\n",
       "      <td>0.132094</td>\n",
       "      <td>0.0</td>\n",
       "      <td>-0.140306</td>\n",
       "    </tr>\n",
       "    <tr>\n",
       "      <th>1771</th>\n",
       "      <td>-0.551078</td>\n",
       "      <td>0.523753</td>\n",
       "      <td>0.164179</td>\n",
       "      <td>0.210526</td>\n",
       "      <td>-0.022342</td>\n",
       "      <td>-0.666667</td>\n",
       "      <td>-0.409683</td>\n",
       "      <td>0.130274</td>\n",
       "      <td>0.0</td>\n",
       "      <td>-0.092721</td>\n",
       "      <td>-0.668939</td>\n",
       "      <td>0.0</td>\n",
       "      <td>-0.002551</td>\n",
       "    </tr>\n",
       "    <tr>\n",
       "      <th>9375</th>\n",
       "      <td>0.113992</td>\n",
       "      <td>-0.151336</td>\n",
       "      <td>0.621891</td>\n",
       "      <td>0.873684</td>\n",
       "      <td>0.503784</td>\n",
       "      <td>-0.166667</td>\n",
       "      <td>-0.346369</td>\n",
       "      <td>-0.620304</td>\n",
       "      <td>-1.0</td>\n",
       "      <td>2.718591</td>\n",
       "      <td>-0.889410</td>\n",
       "      <td>0.0</td>\n",
       "      <td>0.637755</td>\n",
       "    </tr>\n",
       "    <tr>\n",
       "      <th>8365</th>\n",
       "      <td>0.532739</td>\n",
       "      <td>-0.116331</td>\n",
       "      <td>0.164179</td>\n",
       "      <td>0.578947</td>\n",
       "      <td>-0.022342</td>\n",
       "      <td>-1.000000</td>\n",
       "      <td>0.018622</td>\n",
       "      <td>0.675156</td>\n",
       "      <td>0.0</td>\n",
       "      <td>0.298563</td>\n",
       "      <td>-0.511862</td>\n",
       "      <td>0.0</td>\n",
       "      <td>0.339286</td>\n",
       "    </tr>\n",
       "    <tr>\n",
       "      <th>8346</th>\n",
       "      <td>0.141831</td>\n",
       "      <td>1.481774</td>\n",
       "      <td>-0.477612</td>\n",
       "      <td>-0.957895</td>\n",
       "      <td>0.854234</td>\n",
       "      <td>-0.666667</td>\n",
       "      <td>-0.218808</td>\n",
       "      <td>-0.854824</td>\n",
       "      <td>0.0</td>\n",
       "      <td>-0.072323</td>\n",
       "      <td>-1.036726</td>\n",
       "      <td>0.0</td>\n",
       "      <td>-0.051020</td>\n",
       "    </tr>\n",
       "  </tbody>\n",
       "</table>\n",
       "<p>1786 rows × 13 columns</p>\n",
       "</div>"
      ],
      "text/plain": [
       "       song_duration_ms  acousticness  danceability    energy  \\\n",
       "4272          -0.934154     -0.357679     -0.189055  0.224561   \n",
       "12907         -0.009305     -0.356021     -0.960199  1.007018   \n",
       "8240          -1.314128      0.326359      0.094527 -0.445614   \n",
       "548            1.412107     -0.360284     -0.835821  1.028070   \n",
       "5161          -1.151805      0.610607     -0.238806 -0.715789   \n",
       "...                 ...           ...           ...       ...   \n",
       "8940           1.160859      0.336886      0.835821 -0.792982   \n",
       "1771          -0.551078      0.523753      0.164179  0.210526   \n",
       "9375           0.113992     -0.151336      0.621891  0.873684   \n",
       "8365           0.532739     -0.116331      0.164179  0.578947   \n",
       "8346           0.141831      1.481774     -0.477612 -0.957895   \n",
       "\n",
       "       instrumentalness       key  liveness  loudness  audio_mode  \\\n",
       "4272          -0.022342  0.333333 -0.335196  0.254810         0.0   \n",
       "12907         -0.022342  0.666667  0.204842  0.725810         0.0   \n",
       "8240          -0.022342 -0.333333 -0.589385 -0.557056         0.0   \n",
       "548           26.824505  0.166667  0.763501  0.675715        -1.0   \n",
       "5161           0.792072  0.166667  1.964618 -1.616596         0.0   \n",
       "...                 ...       ...       ...       ...         ...   \n",
       "8940          -0.022342 -0.333333  0.512104 -0.347443        -1.0   \n",
       "1771          -0.022342 -0.666667 -0.409683  0.130274         0.0   \n",
       "9375           0.503784 -0.166667 -0.346369 -0.620304        -1.0   \n",
       "8365          -0.022342 -1.000000  0.018622  0.675156         0.0   \n",
       "8346           0.854234 -0.666667 -0.218808 -0.854824         0.0   \n",
       "\n",
       "       speechiness     tempo  time_signature  audio_valence  \n",
       "4272      0.621233  0.006314             0.0      -0.071429  \n",
       "12907    -0.070468  0.622252             0.0      -0.341837  \n",
       "8240     -0.044506  0.142319             0.0       1.043367  \n",
       "548       2.310617 -0.786017             0.0      -0.795918  \n",
       "5161     -0.302272 -0.742481             0.0       0.640306  \n",
       "...            ...       ...             ...            ...  \n",
       "8940      0.993973  0.132094             0.0      -0.140306  \n",
       "1771     -0.092721 -0.668939             0.0      -0.002551  \n",
       "9375      2.718591 -0.889410             0.0       0.637755  \n",
       "8365      0.298563 -0.511862             0.0       0.339286  \n",
       "8346     -0.072323 -1.036726             0.0      -0.051020  \n",
       "\n",
       "[1786 rows x 13 columns]"
      ]
     },
     "execution_count": 91,
     "metadata": {},
     "output_type": "execute_result"
    }
   ],
   "source": [
    "X_test = pkl.load(open(f'{directory}X_test.pkl', 'rb'))\n",
    "y_test = pkl.load(open(f'{directory}y_test.pkl', 'rb'))\n",
    "X_test"
   ]
  },
  {
   "cell_type": "code",
   "execution_count": 92,
   "metadata": {},
   "outputs": [
    {
     "data": {
      "text/plain": [
       "4272     66\n",
       "12907    62\n",
       "8240     64\n",
       "548      57\n",
       "5161     40\n",
       "         ..\n",
       "8940      0\n",
       "1771     35\n",
       "9375     52\n",
       "8365     72\n",
       "8346     69\n",
       "Name: song_popularity, Length: 1786, dtype: int64"
      ]
     },
     "execution_count": 92,
     "metadata": {},
     "output_type": "execute_result"
    }
   ],
   "source": [
    "y_test"
   ]
  },
  {
   "cell_type": "code",
   "execution_count": 93,
   "metadata": {},
   "outputs": [
    {
     "data": {
      "text/html": [
       "<pre style=\"white-space:pre;overflow-x:auto;line-height:normal;font-family:Menlo,'DejaVu Sans Mono',consolas,'Courier New',monospace\"><span style=\"font-weight: bold\">Model: \"sequential_15\"</span>\n",
       "</pre>\n"
      ],
      "text/plain": [
       "\u001b[1mModel: \"sequential_15\"\u001b[0m\n"
      ]
     },
     "metadata": {},
     "output_type": "display_data"
    },
    {
     "data": {
      "text/html": [
       "<pre style=\"white-space:pre;overflow-x:auto;line-height:normal;font-family:Menlo,'DejaVu Sans Mono',consolas,'Courier New',monospace\">┏━━━━━━━━━━━━━━━━━━━━━━━━━━━━━━━━━┳━━━━━━━━━━━━━━━━━━━━━━━━┳━━━━━━━━━━━━━━━┓\n",
       "┃<span style=\"font-weight: bold\"> Layer (type)                    </span>┃<span style=\"font-weight: bold\"> Output Shape           </span>┃<span style=\"font-weight: bold\">       Param # </span>┃\n",
       "┡━━━━━━━━━━━━━━━━━━━━━━━━━━━━━━━━━╇━━━━━━━━━━━━━━━━━━━━━━━━╇━━━━━━━━━━━━━━━┩\n",
       "│ dense_108 (<span style=\"color: #0087ff; text-decoration-color: #0087ff\">Dense</span>)               │ (<span style=\"color: #00d7ff; text-decoration-color: #00d7ff\">None</span>, <span style=\"color: #00af00; text-decoration-color: #00af00\">32</span>)             │           <span style=\"color: #00af00; text-decoration-color: #00af00\">448</span> │\n",
       "├─────────────────────────────────┼────────────────────────┼───────────────┤\n",
       "│ dense_109 (<span style=\"color: #0087ff; text-decoration-color: #0087ff\">Dense</span>)               │ (<span style=\"color: #00d7ff; text-decoration-color: #00d7ff\">None</span>, <span style=\"color: #00af00; text-decoration-color: #00af00\">64</span>)             │         <span style=\"color: #00af00; text-decoration-color: #00af00\">2,112</span> │\n",
       "├─────────────────────────────────┼────────────────────────┼───────────────┤\n",
       "│ dropout_49 (<span style=\"color: #0087ff; text-decoration-color: #0087ff\">Dropout</span>)            │ (<span style=\"color: #00d7ff; text-decoration-color: #00d7ff\">None</span>, <span style=\"color: #00af00; text-decoration-color: #00af00\">64</span>)             │             <span style=\"color: #00af00; text-decoration-color: #00af00\">0</span> │\n",
       "├─────────────────────────────────┼────────────────────────┼───────────────┤\n",
       "│ dense_110 (<span style=\"color: #0087ff; text-decoration-color: #0087ff\">Dense</span>)               │ (<span style=\"color: #00d7ff; text-decoration-color: #00d7ff\">None</span>, <span style=\"color: #00af00; text-decoration-color: #00af00\">128</span>)            │         <span style=\"color: #00af00; text-decoration-color: #00af00\">8,320</span> │\n",
       "├─────────────────────────────────┼────────────────────────┼───────────────┤\n",
       "│ dropout_50 (<span style=\"color: #0087ff; text-decoration-color: #0087ff\">Dropout</span>)            │ (<span style=\"color: #00d7ff; text-decoration-color: #00d7ff\">None</span>, <span style=\"color: #00af00; text-decoration-color: #00af00\">128</span>)            │             <span style=\"color: #00af00; text-decoration-color: #00af00\">0</span> │\n",
       "├─────────────────────────────────┼────────────────────────┼───────────────┤\n",
       "│ dense_111 (<span style=\"color: #0087ff; text-decoration-color: #0087ff\">Dense</span>)               │ (<span style=\"color: #00d7ff; text-decoration-color: #00d7ff\">None</span>, <span style=\"color: #00af00; text-decoration-color: #00af00\">256</span>)            │        <span style=\"color: #00af00; text-decoration-color: #00af00\">33,024</span> │\n",
       "├─────────────────────────────────┼────────────────────────┼───────────────┤\n",
       "│ dropout_51 (<span style=\"color: #0087ff; text-decoration-color: #0087ff\">Dropout</span>)            │ (<span style=\"color: #00d7ff; text-decoration-color: #00d7ff\">None</span>, <span style=\"color: #00af00; text-decoration-color: #00af00\">256</span>)            │             <span style=\"color: #00af00; text-decoration-color: #00af00\">0</span> │\n",
       "├─────────────────────────────────┼────────────────────────┼───────────────┤\n",
       "│ dense_112 (<span style=\"color: #0087ff; text-decoration-color: #0087ff\">Dense</span>)               │ (<span style=\"color: #00d7ff; text-decoration-color: #00d7ff\">None</span>, <span style=\"color: #00af00; text-decoration-color: #00af00\">128</span>)            │        <span style=\"color: #00af00; text-decoration-color: #00af00\">32,896</span> │\n",
       "├─────────────────────────────────┼────────────────────────┼───────────────┤\n",
       "│ dropout_52 (<span style=\"color: #0087ff; text-decoration-color: #0087ff\">Dropout</span>)            │ (<span style=\"color: #00d7ff; text-decoration-color: #00d7ff\">None</span>, <span style=\"color: #00af00; text-decoration-color: #00af00\">128</span>)            │             <span style=\"color: #00af00; text-decoration-color: #00af00\">0</span> │\n",
       "├─────────────────────────────────┼────────────────────────┼───────────────┤\n",
       "│ dense_113 (<span style=\"color: #0087ff; text-decoration-color: #0087ff\">Dense</span>)               │ (<span style=\"color: #00d7ff; text-decoration-color: #00d7ff\">None</span>, <span style=\"color: #00af00; text-decoration-color: #00af00\">64</span>)             │         <span style=\"color: #00af00; text-decoration-color: #00af00\">8,256</span> │\n",
       "├─────────────────────────────────┼────────────────────────┼───────────────┤\n",
       "│ dense_114 (<span style=\"color: #0087ff; text-decoration-color: #0087ff\">Dense</span>)               │ (<span style=\"color: #00d7ff; text-decoration-color: #00d7ff\">None</span>, <span style=\"color: #00af00; text-decoration-color: #00af00\">32</span>)             │         <span style=\"color: #00af00; text-decoration-color: #00af00\">2,080</span> │\n",
       "├─────────────────────────────────┼────────────────────────┼───────────────┤\n",
       "│ dense_115 (<span style=\"color: #0087ff; text-decoration-color: #0087ff\">Dense</span>)               │ (<span style=\"color: #00d7ff; text-decoration-color: #00d7ff\">None</span>, <span style=\"color: #00af00; text-decoration-color: #00af00\">1</span>)              │            <span style=\"color: #00af00; text-decoration-color: #00af00\">33</span> │\n",
       "└─────────────────────────────────┴────────────────────────┴───────────────┘\n",
       "</pre>\n"
      ],
      "text/plain": [
       "┏━━━━━━━━━━━━━━━━━━━━━━━━━━━━━━━━━┳━━━━━━━━━━━━━━━━━━━━━━━━┳━━━━━━━━━━━━━━━┓\n",
       "┃\u001b[1m \u001b[0m\u001b[1mLayer (type)                   \u001b[0m\u001b[1m \u001b[0m┃\u001b[1m \u001b[0m\u001b[1mOutput Shape          \u001b[0m\u001b[1m \u001b[0m┃\u001b[1m \u001b[0m\u001b[1m      Param #\u001b[0m\u001b[1m \u001b[0m┃\n",
       "┡━━━━━━━━━━━━━━━━━━━━━━━━━━━━━━━━━╇━━━━━━━━━━━━━━━━━━━━━━━━╇━━━━━━━━━━━━━━━┩\n",
       "│ dense_108 (\u001b[38;5;33mDense\u001b[0m)               │ (\u001b[38;5;45mNone\u001b[0m, \u001b[38;5;34m32\u001b[0m)             │           \u001b[38;5;34m448\u001b[0m │\n",
       "├─────────────────────────────────┼────────────────────────┼───────────────┤\n",
       "│ dense_109 (\u001b[38;5;33mDense\u001b[0m)               │ (\u001b[38;5;45mNone\u001b[0m, \u001b[38;5;34m64\u001b[0m)             │         \u001b[38;5;34m2,112\u001b[0m │\n",
       "├─────────────────────────────────┼────────────────────────┼───────────────┤\n",
       "│ dropout_49 (\u001b[38;5;33mDropout\u001b[0m)            │ (\u001b[38;5;45mNone\u001b[0m, \u001b[38;5;34m64\u001b[0m)             │             \u001b[38;5;34m0\u001b[0m │\n",
       "├─────────────────────────────────┼────────────────────────┼───────────────┤\n",
       "│ dense_110 (\u001b[38;5;33mDense\u001b[0m)               │ (\u001b[38;5;45mNone\u001b[0m, \u001b[38;5;34m128\u001b[0m)            │         \u001b[38;5;34m8,320\u001b[0m │\n",
       "├─────────────────────────────────┼────────────────────────┼───────────────┤\n",
       "│ dropout_50 (\u001b[38;5;33mDropout\u001b[0m)            │ (\u001b[38;5;45mNone\u001b[0m, \u001b[38;5;34m128\u001b[0m)            │             \u001b[38;5;34m0\u001b[0m │\n",
       "├─────────────────────────────────┼────────────────────────┼───────────────┤\n",
       "│ dense_111 (\u001b[38;5;33mDense\u001b[0m)               │ (\u001b[38;5;45mNone\u001b[0m, \u001b[38;5;34m256\u001b[0m)            │        \u001b[38;5;34m33,024\u001b[0m │\n",
       "├─────────────────────────────────┼────────────────────────┼───────────────┤\n",
       "│ dropout_51 (\u001b[38;5;33mDropout\u001b[0m)            │ (\u001b[38;5;45mNone\u001b[0m, \u001b[38;5;34m256\u001b[0m)            │             \u001b[38;5;34m0\u001b[0m │\n",
       "├─────────────────────────────────┼────────────────────────┼───────────────┤\n",
       "│ dense_112 (\u001b[38;5;33mDense\u001b[0m)               │ (\u001b[38;5;45mNone\u001b[0m, \u001b[38;5;34m128\u001b[0m)            │        \u001b[38;5;34m32,896\u001b[0m │\n",
       "├─────────────────────────────────┼────────────────────────┼───────────────┤\n",
       "│ dropout_52 (\u001b[38;5;33mDropout\u001b[0m)            │ (\u001b[38;5;45mNone\u001b[0m, \u001b[38;5;34m128\u001b[0m)            │             \u001b[38;5;34m0\u001b[0m │\n",
       "├─────────────────────────────────┼────────────────────────┼───────────────┤\n",
       "│ dense_113 (\u001b[38;5;33mDense\u001b[0m)               │ (\u001b[38;5;45mNone\u001b[0m, \u001b[38;5;34m64\u001b[0m)             │         \u001b[38;5;34m8,256\u001b[0m │\n",
       "├─────────────────────────────────┼────────────────────────┼───────────────┤\n",
       "│ dense_114 (\u001b[38;5;33mDense\u001b[0m)               │ (\u001b[38;5;45mNone\u001b[0m, \u001b[38;5;34m32\u001b[0m)             │         \u001b[38;5;34m2,080\u001b[0m │\n",
       "├─────────────────────────────────┼────────────────────────┼───────────────┤\n",
       "│ dense_115 (\u001b[38;5;33mDense\u001b[0m)               │ (\u001b[38;5;45mNone\u001b[0m, \u001b[38;5;34m1\u001b[0m)              │            \u001b[38;5;34m33\u001b[0m │\n",
       "└─────────────────────────────────┴────────────────────────┴───────────────┘\n"
      ]
     },
     "metadata": {},
     "output_type": "display_data"
    },
    {
     "data": {
      "text/html": [
       "<pre style=\"white-space:pre;overflow-x:auto;line-height:normal;font-family:Menlo,'DejaVu Sans Mono',consolas,'Courier New',monospace\"><span style=\"font-weight: bold\"> Total params: </span><span style=\"color: #00af00; text-decoration-color: #00af00\">87,171</span> (340.52 KB)\n",
       "</pre>\n"
      ],
      "text/plain": [
       "\u001b[1m Total params: \u001b[0m\u001b[38;5;34m87,171\u001b[0m (340.52 KB)\n"
      ]
     },
     "metadata": {},
     "output_type": "display_data"
    },
    {
     "data": {
      "text/html": [
       "<pre style=\"white-space:pre;overflow-x:auto;line-height:normal;font-family:Menlo,'DejaVu Sans Mono',consolas,'Courier New',monospace\"><span style=\"font-weight: bold\"> Trainable params: </span><span style=\"color: #00af00; text-decoration-color: #00af00\">87,169</span> (340.50 KB)\n",
       "</pre>\n"
      ],
      "text/plain": [
       "\u001b[1m Trainable params: \u001b[0m\u001b[38;5;34m87,169\u001b[0m (340.50 KB)\n"
      ]
     },
     "metadata": {},
     "output_type": "display_data"
    },
    {
     "data": {
      "text/html": [
       "<pre style=\"white-space:pre;overflow-x:auto;line-height:normal;font-family:Menlo,'DejaVu Sans Mono',consolas,'Courier New',monospace\"><span style=\"font-weight: bold\"> Non-trainable params: </span><span style=\"color: #00af00; text-decoration-color: #00af00\">0</span> (0.00 B)\n",
       "</pre>\n"
      ],
      "text/plain": [
       "\u001b[1m Non-trainable params: \u001b[0m\u001b[38;5;34m0\u001b[0m (0.00 B)\n"
      ]
     },
     "metadata": {},
     "output_type": "display_data"
    },
    {
     "data": {
      "text/html": [
       "<pre style=\"white-space:pre;overflow-x:auto;line-height:normal;font-family:Menlo,'DejaVu Sans Mono',consolas,'Courier New',monospace\"><span style=\"font-weight: bold\"> Optimizer params: </span><span style=\"color: #00af00; text-decoration-color: #00af00\">2</span> (12.00 B)\n",
       "</pre>\n"
      ],
      "text/plain": [
       "\u001b[1m Optimizer params: \u001b[0m\u001b[38;5;34m2\u001b[0m (12.00 B)\n"
      ]
     },
     "metadata": {},
     "output_type": "display_data"
    }
   ],
   "source": [
    "directory = 'Model/'\n",
    "ann_model = tf.keras.models.load_model(f'{directory}ANN_regressor.keras')\n",
    "\n",
    "# Show the model architecture\n",
    "ann_model.summary()"
   ]
  },
  {
   "cell_type": "code",
   "execution_count": 94,
   "metadata": {},
   "outputs": [
    {
     "name": "stdout",
     "output_type": "stream",
     "text": [
      "\u001b[1m56/56\u001b[0m \u001b[32m━━━━━━━━━━━━━━━━━━━━\u001b[0m\u001b[37m\u001b[0m \u001b[1m0s\u001b[0m 2ms/step\n",
      "r2 score: 0.0042920708656311035\n",
      "mae score: 16.522476896860564\n",
      "rmse score: 20.786153906404014\n",
      "mse score: 432.0641942207149\n"
     ]
    }
   ],
   "source": [
    "from sklearn.metrics import r2_score, mean_absolute_error, root_mean_squared_error, mean_squared_error\n",
    "\n",
    "#ANN\n",
    "ann_predicted = ann_model.predict(X_test)\n",
    "\n",
    "r2 = r2_score(y_test,ann_predicted)\n",
    "mae = mean_absolute_error(y_test,ann_predicted)\n",
    "rmse = root_mean_squared_error(y_test,ann_predicted)\n",
    "mse = mean_squared_error(y_test,ann_predicted)\n",
    "\n",
    "print('r2 score:',r2)\n",
    "print('mae score:',mae)\n",
    "print('rmse score:',rmse)\n",
    "print('mse score:',mse)"
   ]
  },
  {
   "cell_type": "code",
   "execution_count": 95,
   "metadata": {},
   "outputs": [
    {
     "name": "stdout",
     "output_type": "stream",
     "text": [
      "r2 score: 0.04291057586669922\n",
      "mae score: 16.19217295288906\n",
      "rmse score: 20.379073098654807\n",
      "mse score: 415.30662036031606\n"
     ]
    }
   ],
   "source": [
    "#XGBoost\n",
    "xgb = pkl.load(open(f'{directory}XGBoost.pkl', 'rb'))\n",
    "xgb_predicted = xgb.predict(X_test)\n",
    "\n",
    "r2 = r2_score(y_test,xgb_predicted)\n",
    "mae = mean_absolute_error(y_test,xgb_predicted)\n",
    "rmse = root_mean_squared_error(y_test,xgb_predicted)\n",
    "mse = mean_squared_error(y_test,xgb_predicted)\n",
    "\n",
    "print('r2 score:',r2)\n",
    "print('mae score:',mae)\n",
    "print('rmse score:',rmse)\n",
    "print('mse score:',mse)"
   ]
  },
  {
   "cell_type": "code",
   "execution_count": 96,
   "metadata": {},
   "outputs": [
    {
     "name": "stdout",
     "output_type": "stream",
     "text": [
      "r2 score: 0.03202760249414305\n",
      "mae score: 16.34189800272812\n",
      "rmse score: 20.494608785133202\n",
      "mse score: 420.02898925565904\n"
     ]
    }
   ],
   "source": [
    "#AdaBoost\n",
    "adaboost = pkl.load(open(f'{directory}AdaBoostRegressor.pkl', 'rb'))\n",
    "adaboost_predicted = adaboost.predict(X_test)\n",
    "\n",
    "r2 = r2_score(y_test,adaboost_predicted)\n",
    "mae = mean_absolute_error(y_test,adaboost_predicted)\n",
    "rmse = root_mean_squared_error(y_test,adaboost_predicted)\n",
    "mse = mean_squared_error(y_test,adaboost_predicted)\n",
    "\n",
    "print('r2 score:',r2)\n",
    "print('mae score:',mae)\n",
    "print('rmse score:',rmse)\n",
    "print('mse score:',mse)"
   ]
  },
  {
   "cell_type": "code",
   "execution_count": 97,
   "metadata": {},
   "outputs": [
    {
     "name": "stdout",
     "output_type": "stream",
     "text": [
      "r2 score: 0.04236866943993822\n",
      "mae score: 16.20386184761977\n",
      "rmse score: 20.384840569505048\n",
      "mse score: 415.54172504413884\n"
     ]
    }
   ],
   "source": [
    "#GradientBoostingRegressor\n",
    "Gradientboost = pkl.load(open(f'{directory}GradientBoostingRegressor.pkl', 'rb'))\n",
    "gradboost_predicted = Gradientboost.predict(X_test)\n",
    "\n",
    "r2 = r2_score(y_test,gradboost_predicted)\n",
    "mae = mean_absolute_error(y_test,gradboost_predicted)\n",
    "rmse = root_mean_squared_error(y_test,gradboost_predicted)\n",
    "mse = mean_squared_error(y_test,gradboost_predicted)\n",
    "\n",
    "print('r2 score:',r2)\n",
    "print('mae score:',mae)\n",
    "print('rmse score:',rmse)\n",
    "print('mse score:',mse)"
   ]
  },
  {
   "cell_type": "code",
   "execution_count": 98,
   "metadata": {},
   "outputs": [
    {
     "name": "stdout",
     "output_type": "stream",
     "text": [
      "r2 score: 0.026819358355188005\n",
      "mae score: 16.2674933144123\n",
      "rmse score: 20.5496711658173\n",
      "mse score: 422.28898502322306\n"
     ]
    }
   ],
   "source": [
    "#LinearRegressor\n",
    "LinReg = pkl.load(open(f'{directory}LinearRegression.pkl', 'rb'))\n",
    "LR_predicted = LinReg.predict(X_test)\n",
    "\n",
    "r2 = r2_score(y_test,LR_predicted)\n",
    "mae = mean_absolute_error(y_test,LR_predicted)\n",
    "rmse = root_mean_squared_error(y_test,LR_predicted)\n",
    "mse = mean_squared_error(y_test,LR_predicted)\n",
    "\n",
    "print('r2 score:',r2)\n",
    "print('mae score:',mae)\n",
    "print('rmse score:',rmse)\n",
    "print('mse score:',mse)"
   ]
  },
  {
   "cell_type": "code",
   "execution_count": 99,
   "metadata": {},
   "outputs": [
    {
     "name": "stdout",
     "output_type": "stream",
     "text": [
      "r2 score: 0.044613364635372244\n",
      "mae score: 16.15425075559807\n",
      "rmse score: 20.360935441388992\n",
      "mse score: 414.5676920484103\n"
     ]
    }
   ],
   "source": [
    "#RandomForest\n",
    "RF = pkl.load(open(f'{directory}RandomForest.pkl', 'rb'))\n",
    "RF_predicted = RF.predict(X_test)\n",
    "\n",
    "r2 = r2_score(y_test,RF_predicted)\n",
    "mae = mean_absolute_error(y_test,RF_predicted)\n",
    "rmse = root_mean_squared_error(y_test,RF_predicted)\n",
    "mse = mean_squared_error(y_test,RF_predicted)\n",
    "\n",
    "print('r2 score:',r2)\n",
    "print('mae score:',mae)\n",
    "print('rmse score:',rmse)\n",
    "print('mse score:',mse)"
   ]
  },
  {
   "cell_type": "code",
   "execution_count": 100,
   "metadata": {},
   "outputs": [
    {
     "name": "stdout",
     "output_type": "stream",
     "text": [
      "r2 score: 0.04155524714178971\n",
      "mae score: 16.200422805649566\n",
      "rmse score: 20.393496282672835\n",
      "mse score: 415.8946906313908\n"
     ]
    }
   ],
   "source": [
    "#LightGBM\n",
    "lightgbm = pkl.load(open(f'{directory}LGBMRegressor.pkl', 'rb'))\n",
    "lgbm_predicted = lightgbm.predict(X_test)\n",
    "\n",
    "r2 = r2_score(y_test,lgbm_predicted)\n",
    "mae = mean_absolute_error(y_test,lgbm_predicted)\n",
    "rmse = root_mean_squared_error(y_test,lgbm_predicted)\n",
    "mse = mean_squared_error(y_test,lgbm_predicted)\n",
    "\n",
    "print('r2 score:',r2)\n",
    "print('mae score:',mae)\n",
    "print('rmse score:',rmse)\n",
    "print('mse score:',mse)"
   ]
  },
  {
   "cell_type": "code",
   "execution_count": null,
   "metadata": {},
   "outputs": [],
   "source": []
  }
 ],
 "metadata": {
  "kernelspec": {
   "display_name": "Python 3",
   "language": "python",
   "name": "python3"
  },
  "language_info": {
   "codemirror_mode": {
    "name": "ipython",
    "version": 3
   },
   "file_extension": ".py",
   "mimetype": "text/x-python",
   "name": "python",
   "nbconvert_exporter": "python",
   "pygments_lexer": "ipython3",
   "version": "3.12.2"
  }
 },
 "nbformat": 4,
 "nbformat_minor": 2
}
